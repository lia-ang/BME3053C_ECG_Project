{
  "cells": [
    {
      "cell_type": "markdown",
      "metadata": {
        "id": "view-in-github",
        "colab_type": "text"
      },
      "source": [
        "<a href=\"https://colab.research.google.com/github/lia-ang/BME3053C_ECG_Project/blob/main/final_project_ecg.ipynb\" target=\"_parent\"><img src=\"https://colab.research.google.com/assets/colab-badge.svg\" alt=\"Open In Colab\"/></a>"
      ]
    },
    {
      "cell_type": "code",
      "execution_count": null,
      "metadata": {
        "id": "9aBZylcwqklt"
      },
      "outputs": [],
      "source": [
        "#Group Project: Angela Liang, Ece Sarioglu, Ankitha Nath, Siri Yarrapatni, Vivian Lam, Alana Young"
      ]
    },
    {
      "cell_type": "markdown",
      "metadata": {
        "id": "kK1FuXPr3lhz"
      },
      "source": [
        "Repositories: https://github.com/huggingface/transformers/tree/main/src/transformers/models/longformer\n",
        "https://github.com/allenai/longformer"
      ]
    },
    {
      "cell_type": "markdown",
      "metadata": {
        "id": "aW_cNaQS3lh1"
      },
      "source": [
        "Dataset: https://physionet.org/content/ecg-arrhythmia/1.0.0/"
      ]
    },
    {
      "cell_type": "code",
      "execution_count": 1,
      "metadata": {
        "id": "rbDGFKl73lh2",
        "outputId": "248d525d-ceb2-47e3-9c5d-ccc033f5e2d1",
        "colab": {
          "base_uri": "https://localhost:8080/"
        }
      },
      "outputs": [
        {
          "output_type": "execute_result",
          "data": {
            "text/plain": [
              "<torch._C.Generator at 0x7bb3beaed910>"
            ]
          },
          "metadata": {},
          "execution_count": 1
        }
      ],
      "source": [
        "# Import libraries for data manipulation and visualization\n",
        "import pandas as pd\n",
        "import numpy as np\n",
        "import matplotlib.pyplot as plt\n",
        "import seaborn as sns\n",
        "\n",
        "# Import libraries for signal processing\n",
        "from scipy.signal import butter, lfilter, welch\n",
        "\n",
        "# Import libraries for machine learning and evaluation\n",
        "from sklearn.model_selection import train_test_split\n",
        "from sklearn.preprocessing import StandardScaler, LabelEncoder\n",
        "from sklearn.metrics import classification_report, confusion_matrix, accuracy_score\n",
        "\n",
        "# Import PyTorch and Hugging Face Transformers for Longformer\n",
        "import torch\n",
        "from torch.utils.data import Dataset, DataLoader\n",
        "from transformers import LongformerTokenizer, LongformerModel, LongformerForSequenceClassification\n",
        "\n",
        "# Import additional utilities\n",
        "import os\n",
        "import warnings\n",
        "warnings.filterwarnings('ignore')\n",
        "\n",
        "# For reproducibility\n",
        "np.random.seed(42)\n",
        "torch.manual_seed(42)"
      ]
    },
    {
      "cell_type": "code",
      "source": [
        "# Install required libraries\n",
        "pip install wfdb numpy pandas transformers torch datasets scikit-learn"
      ],
      "metadata": {
        "id": "h7hHX1Ff31iR"
      },
      "execution_count": null,
      "outputs": []
    }
  ],
  "metadata": {
    "colab": {
      "provenance": [],
      "include_colab_link": true
    },
    "kernelspec": {
      "display_name": "Python 3",
      "name": "python3"
    },
    "language_info": {
      "codemirror_mode": {
        "name": "ipython",
        "version": 3
      },
      "file_extension": ".py",
      "mimetype": "text/x-python",
      "name": "python",
      "nbconvert_exporter": "python",
      "pygments_lexer": "ipython3",
      "version": "3.12.1"
    }
  },
  "nbformat": 4,
  "nbformat_minor": 0
}